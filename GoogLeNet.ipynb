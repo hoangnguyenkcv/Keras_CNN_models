{
 "cells": [
  {
   "cell_type": "code",
   "execution_count": 1,
   "metadata": {
    "collapsed": false
   },
   "outputs": [
    {
     "name": "stderr",
     "output_type": "stream",
     "text": [
      "Using TensorFlow backend.\n"
     ]
    }
   ],
   "source": [
    "import keras\n",
    "from keras.models import Sequential\n",
    "from keras.models import Model\n",
    "from keras import backend as K\n",
    "from keras.layers.convolutional import *\n",
    "from keras.layers import Dense, Dropout, Flatten, Input, AveragePooling2D, merge\n",
    "from keras.layers import Conv2D, MaxPooling2D, BatchNormalization\n",
    "from keras.layers import Concatenate\n",
    "from keras.optimizers import Adam\n",
    "from keras.metrics import categorical_crossentropy\n",
    "from keras.preprocessing.image import ImageDataGenerator\n",
    "from keras.layers.normalization import  BatchNormalization\n",
    "from keras import regularizers ### for SVM\n",
    "import numpy as np\n",
    "import tensorflow as tf\n",
    "# import theano\n",
    "import  matplotlib.pyplot as plt\n",
    "import matplotlib\n",
    "import itertools\n",
    "from numpy import*\n",
    "from sklearn.utils import shuffle\n",
    "%matplotlib inline\n",
    "import random as rn\n",
    "import os\n",
    "os.environ['PYTHONASHSEED']= '0'\n",
    "from keras.models import load_model\n",
    "\n",
    "tf.reset_default_graph()"
   ]
  },
  {
   "cell_type": "code",
   "execution_count": 2,
   "metadata": {
    "collapsed": true
   },
   "outputs": [],
   "source": [
    "#setting  the  seed for nummy_gennerated random numbers\n",
    "np.random.seed(7)\n",
    "#seting the seed for python random numbers\n",
    "rn.seed(124)\n",
    "#seting the seed for tensorflow random numbers\n",
    "tf.set_random_seed(57)"
   ]
  },
  {
   "cell_type": "code",
   "execution_count": 3,
   "metadata": {
    "collapsed": true
   },
   "outputs": [],
   "source": [
    "train_path = '.\\MAKEUP\\Train' \n",
    "valid_path = '.\\MAKEUP\\Valid' \n",
    "#test_path = '.\\CASIA1\\Test' "
   ]
  },
  {
   "cell_type": "code",
   "execution_count": 4,
   "metadata": {
    "collapsed": false
   },
   "outputs": [
    {
     "name": "stdout",
     "output_type": "stream",
     "text": [
      "Found 604 images belonging to 2 classes.\n",
      "Found 154 images belonging to 2 classes.\n"
     ]
    }
   ],
   "source": [
    "train_batches = ImageDataGenerator().flow_from_directory(train_path, target_size = (224,224),color_mode='rgb', classes = ['MakeUp','Normal'], batch_size =8)\n",
    "valid_batches = ImageDataGenerator().flow_from_directory(valid_path, target_size = (224,224),color_mode='rgb', classes = ['MakeUp','Normal'], batch_size = 8)"
   ]
  },
  {
   "cell_type": "code",
   "execution_count": 5,
   "metadata": {
    "collapsed": true
   },
   "outputs": [],
   "source": [
    "\n",
    "def add_module(input):\n",
    "    #print(input.shape)\n",
    "    \n",
    "    Conv2D_reduce = Conv2D(16, (1,1), strides=(2,2), activation='relu', padding='same')(input)\n",
    "    #print(Conv2D_reduce.shape)\n",
    "    \n",
    "    Conv2D_1_1 = Conv2D(16, (1,1), activation='relu', padding='same')(input)\n",
    "    #print(Conv2D_1_1.shape)\n",
    "    Conv2D_3_3 = Conv2D(16, (3,3),strides=(2,2), activation='relu', padding='same')(Conv2D_1_1)\n",
    "    #print(Conv2D_3_3.shape)\n",
    "    Conv2D_5_5 = Conv2D(16, (5,5),strides=(2,2), activation='relu', padding='same')(Conv2D_1_1)\n",
    "    #print(Conv2D_5_5.shape)\n",
    "    \n",
    "    MaxPool2D_3_3 = MaxPooling2D(pool_size=(2,2), strides=(2,2))(input)\n",
    "    #print(MaxPool2D_3_3.shape)\n",
    "    Cov2D_Pool = Conv2D(16, (1,1), activation='relu', padding='same')(MaxPool2D_3_3)\n",
    "    #print(Cov2D_Pool.shape)\n",
    "    \n",
    "    concat = Concatenate(axis=-1)([Conv2D_reduce,Conv2D_3_3,Conv2D_5_5,Cov2D_Pool])\n",
    "    #print(concat.shape)\n",
    "    \n",
    "    return concat"
   ]
  },
  {
   "cell_type": "code",
   "execution_count": 6,
   "metadata": {
    "collapsed": false
   },
   "outputs": [],
   "source": [
    "# GoogLeNet Define, not using the sequential model, becuase googlenet is not sequential\n",
    "num_classes = 2\n",
    "input = Input(shape=(224, 224, 3))\n",
    "\n",
    "Conv2D_1 = Conv2D(64, (3,3), activation='relu', padding='same')(input)\n",
    "MaxPool2D_1 = MaxPooling2D(pool_size=(2, 2), strides=(2,2))(Conv2D_1)\n",
    "BatchNorm_1 = BatchNormalization()(MaxPool2D_1)\n",
    "\n",
    "Module_1 = add_module(BatchNorm_1)\n",
    "Module_1 = add_module(Module_1)\n",
    "\n",
    "Output = Flatten()(Module_1)\n",
    "Output = Dense(num_classes, activation='softmax')(Output)"
   ]
  },
  {
   "cell_type": "code",
   "execution_count": 7,
   "metadata": {
    "collapsed": false,
    "scrolled": true
   },
   "outputs": [
    {
     "name": "stdout",
     "output_type": "stream",
     "text": [
      "__________________________________________________________________________________________________\n",
      "Layer (type)                    Output Shape         Param #     Connected to                     \n",
      "==================================================================================================\n",
      "input_1 (InputLayer)            (None, 224, 224, 3)  0                                            \n",
      "__________________________________________________________________________________________________\n",
      "conv2d_1 (Conv2D)               (None, 224, 224, 64) 1792        input_1[0][0]                    \n",
      "__________________________________________________________________________________________________\n",
      "max_pooling2d_1 (MaxPooling2D)  (None, 112, 112, 64) 0           conv2d_1[0][0]                   \n",
      "__________________________________________________________________________________________________\n",
      "batch_normalization_1 (BatchNor (None, 112, 112, 64) 256         max_pooling2d_1[0][0]            \n",
      "__________________________________________________________________________________________________\n",
      "conv2d_3 (Conv2D)               (None, 112, 112, 16) 1040        batch_normalization_1[0][0]      \n",
      "__________________________________________________________________________________________________\n",
      "max_pooling2d_2 (MaxPooling2D)  (None, 56, 56, 64)   0           batch_normalization_1[0][0]      \n",
      "__________________________________________________________________________________________________\n",
      "conv2d_2 (Conv2D)               (None, 56, 56, 16)   1040        batch_normalization_1[0][0]      \n",
      "__________________________________________________________________________________________________\n",
      "conv2d_4 (Conv2D)               (None, 56, 56, 16)   2320        conv2d_3[0][0]                   \n",
      "__________________________________________________________________________________________________\n",
      "conv2d_5 (Conv2D)               (None, 56, 56, 16)   6416        conv2d_3[0][0]                   \n",
      "__________________________________________________________________________________________________\n",
      "conv2d_6 (Conv2D)               (None, 56, 56, 16)   1040        max_pooling2d_2[0][0]            \n",
      "__________________________________________________________________________________________________\n",
      "concatenate_1 (Concatenate)     (None, 56, 56, 64)   0           conv2d_2[0][0]                   \n",
      "                                                                 conv2d_4[0][0]                   \n",
      "                                                                 conv2d_5[0][0]                   \n",
      "                                                                 conv2d_6[0][0]                   \n",
      "__________________________________________________________________________________________________\n",
      "conv2d_8 (Conv2D)               (None, 56, 56, 16)   1040        concatenate_1[0][0]              \n",
      "__________________________________________________________________________________________________\n",
      "max_pooling2d_3 (MaxPooling2D)  (None, 28, 28, 64)   0           concatenate_1[0][0]              \n",
      "__________________________________________________________________________________________________\n",
      "conv2d_7 (Conv2D)               (None, 28, 28, 16)   1040        concatenate_1[0][0]              \n",
      "__________________________________________________________________________________________________\n",
      "conv2d_9 (Conv2D)               (None, 28, 28, 16)   2320        conv2d_8[0][0]                   \n",
      "__________________________________________________________________________________________________\n",
      "conv2d_10 (Conv2D)              (None, 28, 28, 16)   6416        conv2d_8[0][0]                   \n",
      "__________________________________________________________________________________________________\n",
      "conv2d_11 (Conv2D)              (None, 28, 28, 16)   1040        max_pooling2d_3[0][0]            \n",
      "__________________________________________________________________________________________________\n",
      "concatenate_2 (Concatenate)     (None, 28, 28, 64)   0           conv2d_7[0][0]                   \n",
      "                                                                 conv2d_9[0][0]                   \n",
      "                                                                 conv2d_10[0][0]                  \n",
      "                                                                 conv2d_11[0][0]                  \n",
      "__________________________________________________________________________________________________\n",
      "flatten_1 (Flatten)             (None, 50176)        0           concatenate_2[0][0]              \n",
      "__________________________________________________________________________________________________\n",
      "dense_1 (Dense)                 (None, 2)            100354      flatten_1[0][0]                  \n",
      "==================================================================================================\n",
      "Total params: 126,114\n",
      "Trainable params: 125,986\n",
      "Non-trainable params: 128\n",
      "__________________________________________________________________________________________________\n"
     ]
    }
   ],
   "source": [
    "model = Model(inputs=[input], outputs=[Output])\n",
    "model.summary()"
   ]
  },
  {
   "cell_type": "code",
   "execution_count": 8,
   "metadata": {
    "collapsed": true
   },
   "outputs": [],
   "source": [
    "model.layers.pop()\n",
    "last = model.layers[-1].output\n",
    "x = Dense(2, activation = 'linear', kernel_regularizer=regularizers.l2(0.001))(last)\n",
    "finetuned_model = Model(model.input, x)"
   ]
  },
  {
   "cell_type": "code",
   "execution_count": 9,
   "metadata": {
    "collapsed": false
   },
   "outputs": [
    {
     "name": "stdout",
     "output_type": "stream",
     "text": [
      "__________________________________________________________________________________________________\n",
      "Layer (type)                    Output Shape         Param #     Connected to                     \n",
      "==================================================================================================\n",
      "input_1 (InputLayer)            (None, 224, 224, 3)  0                                            \n",
      "__________________________________________________________________________________________________\n",
      "conv2d_1 (Conv2D)               (None, 224, 224, 64) 1792        input_1[0][0]                    \n",
      "__________________________________________________________________________________________________\n",
      "max_pooling2d_1 (MaxPooling2D)  (None, 112, 112, 64) 0           conv2d_1[0][0]                   \n",
      "__________________________________________________________________________________________________\n",
      "batch_normalization_1 (BatchNor (None, 112, 112, 64) 256         max_pooling2d_1[0][0]            \n",
      "__________________________________________________________________________________________________\n",
      "conv2d_3 (Conv2D)               (None, 112, 112, 16) 1040        batch_normalization_1[0][0]      \n",
      "__________________________________________________________________________________________________\n",
      "max_pooling2d_2 (MaxPooling2D)  (None, 56, 56, 64)   0           batch_normalization_1[0][0]      \n",
      "__________________________________________________________________________________________________\n",
      "conv2d_2 (Conv2D)               (None, 56, 56, 16)   1040        batch_normalization_1[0][0]      \n",
      "__________________________________________________________________________________________________\n",
      "conv2d_4 (Conv2D)               (None, 56, 56, 16)   2320        conv2d_3[0][0]                   \n",
      "__________________________________________________________________________________________________\n",
      "conv2d_5 (Conv2D)               (None, 56, 56, 16)   6416        conv2d_3[0][0]                   \n",
      "__________________________________________________________________________________________________\n",
      "conv2d_6 (Conv2D)               (None, 56, 56, 16)   1040        max_pooling2d_2[0][0]            \n",
      "__________________________________________________________________________________________________\n",
      "concatenate_1 (Concatenate)     (None, 56, 56, 64)   0           conv2d_2[0][0]                   \n",
      "                                                                 conv2d_4[0][0]                   \n",
      "                                                                 conv2d_5[0][0]                   \n",
      "                                                                 conv2d_6[0][0]                   \n",
      "__________________________________________________________________________________________________\n",
      "conv2d_8 (Conv2D)               (None, 56, 56, 16)   1040        concatenate_1[0][0]              \n",
      "__________________________________________________________________________________________________\n",
      "max_pooling2d_3 (MaxPooling2D)  (None, 28, 28, 64)   0           concatenate_1[0][0]              \n",
      "__________________________________________________________________________________________________\n",
      "conv2d_7 (Conv2D)               (None, 28, 28, 16)   1040        concatenate_1[0][0]              \n",
      "__________________________________________________________________________________________________\n",
      "conv2d_9 (Conv2D)               (None, 28, 28, 16)   2320        conv2d_8[0][0]                   \n",
      "__________________________________________________________________________________________________\n",
      "conv2d_10 (Conv2D)              (None, 28, 28, 16)   6416        conv2d_8[0][0]                   \n",
      "__________________________________________________________________________________________________\n",
      "conv2d_11 (Conv2D)              (None, 28, 28, 16)   1040        max_pooling2d_3[0][0]            \n",
      "__________________________________________________________________________________________________\n",
      "concatenate_2 (Concatenate)     (None, 28, 28, 64)   0           conv2d_7[0][0]                   \n",
      "                                                                 conv2d_9[0][0]                   \n",
      "                                                                 conv2d_10[0][0]                  \n",
      "                                                                 conv2d_11[0][0]                  \n",
      "__________________________________________________________________________________________________\n",
      "flatten_1 (Flatten)             (None, 50176)        0           concatenate_2[0][0]              \n",
      "__________________________________________________________________________________________________\n",
      "dense_2 (Dense)                 (None, 2)            100354      flatten_1[0][0]                  \n",
      "==================================================================================================\n",
      "Total params: 126,114\n",
      "Trainable params: 125,986\n",
      "Non-trainable params: 128\n",
      "__________________________________________________________________________________________________\n"
     ]
    }
   ],
   "source": [
    "finetuned_model.summary()"
   ]
  },
  {
   "cell_type": "code",
   "execution_count": 10,
   "metadata": {
    "collapsed": true
   },
   "outputs": [],
   "source": [
    "n = len(finetuned_model.layers)\n",
    "for idx, layer in enumerate(finetuned_model.layers):\n",
    "    if idx < (n-2): \n",
    "           layer.trainable = True \n",
    "    else:\n",
    "           layer.trainable = True   "
   ]
  },
  {
   "cell_type": "code",
   "execution_count": null,
   "metadata": {
    "collapsed": true
   },
   "outputs": [],
   "source": [
    "opt = Adam(lr=0.001, decay=10e-6)\n",
    "finetuned_model.compile(loss='hinge', optimizer=opt, metrics=['accuracy'])"
   ]
  },
  {
   "cell_type": "code",
   "execution_count": null,
   "metadata": {
    "collapsed": false
   },
   "outputs": [
    {
     "name": "stdout",
     "output_type": "stream",
     "text": [
      "Epoch 1/200\n",
      " - 15s - loss: 0.5064 - acc: 0.4729 - val_loss: 0.5039 - val_acc: 0.5594\n",
      "\n",
      "Epoch 00001: val_acc improved from -inf to 0.55941, saving model to weights.GoogLeNet.best.hdf5\n",
      "Epoch 2/200\n",
      " - 8s - loss: 0.5034 - acc: 0.4979 - val_loss: 0.5030 - val_acc: 0.5644\n",
      "\n",
      "Epoch 00002: val_acc improved from 0.55941 to 0.56436, saving model to weights.GoogLeNet.best.hdf5\n",
      "Epoch 3/200\n",
      " - 8s - loss: 0.5027 - acc: 0.5062 - val_loss: 0.5024 - val_acc: 0.5198\n",
      "\n",
      "Epoch 00003: val_acc did not improve\n",
      "Epoch 4/200\n",
      " - 8s - loss: 0.5022 - acc: 0.5042 - val_loss: 0.5019 - val_acc: 0.5050\n",
      "\n",
      "Epoch 00004: val_acc did not improve\n",
      "Epoch 5/200\n",
      " - 7s - loss: 0.5017 - acc: 0.5021 - val_loss: 0.5016 - val_acc: 0.4950\n",
      "\n",
      "Epoch 00005: val_acc did not improve\n",
      "Epoch 6/200\n",
      " - 7s - loss: 0.5014 - acc: 0.5021 - val_loss: 0.5013 - val_acc: 0.4703\n",
      "\n",
      "Epoch 00006: val_acc did not improve\n",
      "Epoch 7/200\n",
      " - 7s - loss: 0.5012 - acc: 0.5104 - val_loss: 0.5010 - val_acc: 0.4901\n",
      "\n",
      "Epoch 00007: val_acc did not improve\n",
      "Epoch 8/200\n",
      " - 7s - loss: 0.5009 - acc: 0.4990 - val_loss: 0.5009 - val_acc: 0.5149\n",
      "\n",
      "Epoch 00008: val_acc did not improve\n",
      "Epoch 9/200\n",
      " - 7s - loss: 0.5008 - acc: 0.4927 - val_loss: 0.5007 - val_acc: 0.5050\n",
      "\n",
      "Epoch 00009: val_acc did not improve\n",
      "Epoch 10/200\n",
      " - 7s - loss: 0.5007 - acc: 0.5052 - val_loss: 0.5006 - val_acc: 0.5050\n",
      "\n",
      "Epoch 00010: val_acc did not improve\n",
      "Epoch 11/200\n",
      " - 7s - loss: 0.5005 - acc: 0.5104 - val_loss: 0.5005 - val_acc: 0.5198\n",
      "\n",
      "Epoch 00011: val_acc did not improve\n",
      "Epoch 12/200\n",
      " - 7s - loss: 0.5005 - acc: 0.4896 - val_loss: 0.5004 - val_acc: 0.5198\n",
      "\n",
      "Epoch 00012: val_acc did not improve\n",
      "Epoch 13/200\n",
      " - 7s - loss: 0.5004 - acc: 0.5062 - val_loss: 0.5004 - val_acc: 0.4950\n",
      "\n",
      "Epoch 00013: val_acc did not improve\n",
      "Epoch 14/200\n"
     ]
    }
   ],
   "source": [
    "from keras.callbacks import ModelCheckpoint\n",
    "# Save check point\n",
    "filepath = \"weights.GoogLeNet.best.hdf5\"\n",
    "checkpoint = ModelCheckpoint(filepath, monitor='val_acc', verbose =1, save_best_only = True, mode ='max')\n",
    "callbacks_list= [checkpoint]\n",
    " # Fit the model\n",
    "# model.fit(X,Y, validation_split=0.33, nb_epoch =150, batch_size =10, callbacks = callbacks_list, verbose =0)\n",
    "\n",
    "history = finetuned_model.fit_generator(train_batches, steps_per_epoch = 120, validation_data = valid_batches, validation_steps=26, epochs =200, shuffle=True, callbacks = callbacks_list, verbose =2)"
   ]
  }
 ],
 "metadata": {
  "anaconda-cloud": {},
  "kernelspec": {
   "display_name": "Python [conda env:Anaconda3]",
   "language": "python",
   "name": "conda-env-Anaconda3-py"
  },
  "language_info": {
   "codemirror_mode": {
    "name": "ipython",
    "version": 3
   },
   "file_extension": ".py",
   "mimetype": "text/x-python",
   "name": "python",
   "nbconvert_exporter": "python",
   "pygments_lexer": "ipython3",
   "version": "3.5.2"
  }
 },
 "nbformat": 4,
 "nbformat_minor": 1
}
